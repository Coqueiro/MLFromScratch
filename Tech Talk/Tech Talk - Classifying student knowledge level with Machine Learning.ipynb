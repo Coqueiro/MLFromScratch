{
 "cells": [
  {
   "cell_type": "markdown",
   "metadata": {},
   "source": [
    "# Case: Classifying student knowledge level with Machine Learning"
   ]
  },
  {
   "cell_type": "markdown",
   "metadata": {},
   "source": [
    "#### This problem will be approached with numpy, pandas, scikit-learn and matplotlib, all open source python libs. Data will be pre-processed and pre-analyzed to reach insights. Different methods will be tested for feature selection, measuring correlation between the available variables. Some ML methods will be tested using cross validation to determine each test in more adequate do better model the training set, taking in consideration the possibility of overfitting. The chosen method will be further refined, with some hyperparameters tweaking. \n",
    "\n",
    "#### Lastly, all gathered information will be used to make predictions on a test set.\n",
    "\n",
    "#### The case presents one prediction based on a classification.\n",
    "\n",
    "#### Case developed by me, Lucas Garcia. I don't really have a personal page which I'm proud of... lucas-garcia on linkedin, coqueiro on GitHub."
   ]
  },
  {
   "cell_type": "markdown",
   "metadata": {},
   "source": [
    "What's Machine Learning?\n",
    "**Machine Learning** tries to replicate learning processes within models. Here's a [visual introduction to Machine Learning](http://www.r2d3.us/visual-intro-to-machine-learning-part-1/).\n",
    "\n",
    "Imagine a curious kid who sticks his palm over a candle flame and pulls back in a brief moment of sharp pain.\n",
    "The next day, he comes across a hot stove top, seeing the red color and feeling the heat waves pulsing from it like the candle from the day before.\n",
    "The kid has never touched a stove top, but fortunately, he has learned from previous data to avoid red things that pulse heat.\n",
    "\n",
    "A ML algorithm learns from inputs, and each model deals differently with them, with different fitting processes and mathematical approaches. We can see how variables can change model output with this [lego price vs number of pieces regression](https://docs.google.com/spreadsheets/d/1VLg-WiTDZ6vwBo0pm22OOElz7XW1dJz3WSRI0sPlTvU/edit?usp=sharing).\n",
    "\n",
    "When talking about different ML modelling, there is one big concern: the **bias-variance tradeoff**.\n",
    "Basically:\n",
    "\n",
    "- Error due to Bias is the difference between what our model says and what reality says. High bias methods are usually simple, like a linear regression, which don't tend to overfit our data, but may underfit it, failing to capture important regularities (high bias toward reality). \n",
    "\n",
    "Imagine that a kid that learned that all red things causes sharp pain. This kid will certainly not touch red hot stuff, so he won't touch lava, but he will not touch red crayon since it's red.\n",
    "\n",
    "- Error due to Variance is basically the difference between predictions from different data sets. High variance methods are usually dense and complicated, like a neural network, which tend to overfit if not cautious, failing to capture real model.\n",
    "\n",
    "Imagine that the kid learned that all red things that pulse heat causes sharp pain. This kid will play normally with red crayon, since he knows that it doesn't pulse heat, but he will touch a not so hot stove top, which pulses heat but is not red.\n",
    "\n",
    "A good model would, for example, prioritize investigating if things pulse heat as a more prominent observation. We should note that both kids (we can call them ML models by now) had a small dataset, which lessened their chances of reaching a model that have a closer match to reality.\n",
    "\n",
    "Our [dataset](https://archive.ics.uci.edu/ml/datasets/User+Knowledge+Modeling) comes from Gazi University, in Ankara, Turkey, specifically from undergraduate students of Department of Electrical Education of Gazi University in the 2009 semester. We are using four input variables for this case, which are:\n",
    "\n",
    "- STG (The degree of study time for goal object materails);\n",
    "- SCG (The degree of repetition number of user for goal object materails);\n",
    "- STR (The degree of study time of user for related objects with goal object);\n",
    "- LPR (The exam performance of user for related objects with goal object);\n",
    "- PEG (The exam performance of user for goal objects).\n",
    "\n",
    "Our output variable is:\n",
    "\n",
    "- UNS (The knowledge level of user).\n",
    "\n",
    "UNS has four different values: Very Low, Low, Middle and High. Those values were attributed to the students by the authors of this dataset.\n",
    "\n",
    "Also, we are using a reduced number of values for training because data is very correlated. In this way we can give a kind of rough start to our algorithms (hopefully)."
   ]
  },
  {
   "cell_type": "code",
   "execution_count": 1,
   "metadata": {},
   "outputs": [
    {
     "name": "stdout",
     "output_type": "stream",
     "text": [
      "Quantity of lines:\n",
      " 258\n"
     ]
    }
   ],
   "source": [
    "import numpy as np\n",
    "import pandas as pd\n",
    "\n",
    "tsv_file = open('knowledge_info.tsv','r')\n",
    "sample = pd.read_csv(\n",
    "    tsv_file,\n",
    "    header = 'infer',\n",
    "    delimiter='\\t',\n",
    "    decimal=','\n",
    ")\n",
    "tsv_file.close()\n",
    "\n",
    "print('Quantity of lines:\\n', len(sample))"
   ]
  },
  {
   "cell_type": "markdown",
   "metadata": {},
   "source": [
    "We are splitting our dataset in a train and test sample to test our modelling in the end. In this case we are able to simply use the pandas' Dataframe, but sometimes we may need to restructure our data, for example if we have categorical input variables and want to create a regression. A good lib for this one is [**patsy**](https://patsy.readthedocs.io/en/latest/). "
   ]
  },
  {
   "cell_type": "code",
   "execution_count": 2,
   "metadata": {},
   "outputs": [],
   "source": [
    "from sklearn.model_selection import train_test_split\n",
    "\n",
    "header = sample.columns.values\n",
    "names = header[:][:-1]\n",
    "y_name = header[1:][-1]\n",
    "\n",
    "X = sample[names]\n",
    "\n",
    "y = np.copy(sample[y_name])\n",
    "y[y=='High'] = 3\n",
    "y[y=='Middle'] = 2\n",
    "y[y=='Low'] = 1\n",
    "y[y=='very_low'] = 0\n",
    "\n",
    "X, X_test, y, y_test = train_test_split(X, y, test_size=0.2, random_state=32)"
   ]
  },
  {
   "cell_type": "code",
   "execution_count": 4,
   "metadata": {},
   "outputs": [],
   "source": [
    "from sklearn.model_selection import train_test_split\n",
    "\n",
    "header = sample.columns.values\n",
    "names = header[:][:-1]\n",
    "y_name = header[1:][-1]\n",
    "\n",
    "X = sample[names]\n",
    "\n",
    "y = np.copy(sample[y_name])\n",
    "y[y=='High'] = 3\n",
    "y[y=='Middle'] = 2\n",
    "y[y=='Low'] = 1\n",
    "y[y=='very_low'] = 0\n",
    "\n",
    "X, X_test, y, y_test = train_test_split(X, y, test_size=0.2, random_state=32)"
   ]
  },
  {
   "cell_type": "markdown",
   "metadata": {},
   "source": [
    "Now we are going to take a look at our training dataset. We are going to look for behavior in each output class (looking for mean values, which may move us toward high bias methods, and also deviation, which may move us toward high variance methods."
   ]
  },
  {
   "cell_type": "code",
   "execution_count": 5,
   "metadata": {},
   "outputs": [
    {
     "data": {
      "text/html": [
       "<div>\n",
       "<style scoped>\n",
       "    .dataframe tbody tr th:only-of-type {\n",
       "        vertical-align: middle;\n",
       "    }\n",
       "\n",
       "    .dataframe tbody tr th {\n",
       "        vertical-align: top;\n",
       "    }\n",
       "\n",
       "    .dataframe thead th {\n",
       "        text-align: right;\n",
       "    }\n",
       "</style>\n",
       "<table border=\"1\" class=\"dataframe\">\n",
       "  <thead>\n",
       "    <tr style=\"text-align: right;\">\n",
       "      <th></th>\n",
       "      <th>(STG, mean)</th>\n",
       "      <th>(STG, std)</th>\n",
       "      <th>(SCG, mean)</th>\n",
       "      <th>(SCG, std)</th>\n",
       "      <th>(STR, mean)</th>\n",
       "      <th>(STR, std)</th>\n",
       "      <th>(LPR, mean)</th>\n",
       "      <th>(LPR, std)</th>\n",
       "      <th>(PEG, mean)</th>\n",
       "      <th>(PEG, std)</th>\n",
       "      <th>counts</th>\n",
       "    </tr>\n",
       "    <tr>\n",
       "      <th>UNS</th>\n",
       "      <th></th>\n",
       "      <th></th>\n",
       "      <th></th>\n",
       "      <th></th>\n",
       "      <th></th>\n",
       "      <th></th>\n",
       "      <th></th>\n",
       "      <th></th>\n",
       "      <th></th>\n",
       "      <th></th>\n",
       "      <th></th>\n",
       "    </tr>\n",
       "  </thead>\n",
       "  <tbody>\n",
       "    <tr>\n",
       "      <th>0</th>\n",
       "      <td>0.301067</td>\n",
       "      <td>0.220553</td>\n",
       "      <td>0.186333</td>\n",
       "      <td>0.109585</td>\n",
       "      <td>0.376000</td>\n",
       "      <td>0.244826</td>\n",
       "      <td>0.317333</td>\n",
       "      <td>0.200801</td>\n",
       "      <td>0.090000</td>\n",
       "      <td>0.055549</td>\n",
       "      <td>15</td>\n",
       "    </tr>\n",
       "    <tr>\n",
       "      <th>1</th>\n",
       "      <td>0.317985</td>\n",
       "      <td>0.170890</td>\n",
       "      <td>0.347742</td>\n",
       "      <td>0.202265</td>\n",
       "      <td>0.438333</td>\n",
       "      <td>0.250940</td>\n",
       "      <td>0.506212</td>\n",
       "      <td>0.229265</td>\n",
       "      <td>0.232318</td>\n",
       "      <td>0.075402</td>\n",
       "      <td>66</td>\n",
       "    </tr>\n",
       "    <tr>\n",
       "      <th>2</th>\n",
       "      <td>0.394764</td>\n",
       "      <td>0.214900</td>\n",
       "      <td>0.356639</td>\n",
       "      <td>0.214160</td>\n",
       "      <td>0.502639</td>\n",
       "      <td>0.233123</td>\n",
       "      <td>0.342778</td>\n",
       "      <td>0.231974</td>\n",
       "      <td>0.544028</td>\n",
       "      <td>0.129448</td>\n",
       "      <td>72</td>\n",
       "    </tr>\n",
       "    <tr>\n",
       "      <th>3</th>\n",
       "      <td>0.427660</td>\n",
       "      <td>0.241866</td>\n",
       "      <td>0.432755</td>\n",
       "      <td>0.243463</td>\n",
       "      <td>0.509717</td>\n",
       "      <td>0.253340</td>\n",
       "      <td>0.525472</td>\n",
       "      <td>0.291617</td>\n",
       "      <td>0.763774</td>\n",
       "      <td>0.114425</td>\n",
       "      <td>53</td>\n",
       "    </tr>\n",
       "  </tbody>\n",
       "</table>\n",
       "</div>"
      ],
      "text/plain": [
       "      (STG, mean)  (STG, std)  (SCG, mean)  (SCG, std)  (STR, mean)  \\\n",
       " UNS                                                                  \n",
       "0        0.301067    0.220553     0.186333    0.109585     0.376000   \n",
       "1        0.317985    0.170890     0.347742    0.202265     0.438333   \n",
       "2        0.394764    0.214900     0.356639    0.214160     0.502639   \n",
       "3        0.427660    0.241866     0.432755    0.243463     0.509717   \n",
       "\n",
       "      (STR, std)  (LPR, mean)  (LPR, std)  (PEG, mean)  (PEG, std)  counts  \n",
       " UNS                                                                        \n",
       "0       0.244826     0.317333    0.200801     0.090000    0.055549      15  \n",
       "1       0.250940     0.506212    0.229265     0.232318    0.075402      66  \n",
       "2       0.233123     0.342778    0.231974     0.544028    0.129448      72  \n",
       "3       0.253340     0.525472    0.291617     0.763774    0.114425      53  "
      ]
     },
     "execution_count": 5,
     "metadata": {},
     "output_type": "execute_result"
    }
   ],
   "source": [
    "X_y = X.copy()\n",
    "X_y[y_name] = y\n",
    "groupby_X_y = X_y.groupby(y_name)\n",
    "table = pd.concat([groupby_X_y.agg(['mean', 'std']),\n",
    "                  pd.DataFrame(groupby_X_y.size(),columns=['counts'])],\n",
    "                  axis=1)\n",
    "table"
   ]
  },
  {
   "cell_type": "markdown",
   "metadata": {},
   "source": [
    "We can note that if we were to randomly guess outputs for each entry, our best bet would be to guess that it is UNS 2, since it has the most counts. With this bet, our accuracy would be 72/(15+66+72+53) = 34.95% (0.35). Note: a usually better way to validate modelling is to use **AUROC** instead of accuracy. **AUROC** is calculated using false positives and true positives, and doesn't rely on comparisons between best betting accuracy and actual accuracy. [Here's a nice youtube video from Data School about ROC and AUROC](https://www.youtube.com/watch?v=OAl6eAyP-yo).\n",
    "\n",
    "It's important to note that we have just a few examples of UNS 0 entries. This is very notable in **skewed data**, data that have a long tail. UNS 0 will be a less probable prediction if its data doesn't have a clear difference from the other classes, which would move our model towards UNS 1, 2 and 3. This kind of observation is important and may impact the whole process. [Here's a link with some nice explanation](https://www.mathsisfun.com/data/skewness.html).\n",
    "\n",
    "We can perceive that PEG has a increasing mean and relative low deviation compared to other variables. LPR looks similar in that sense, but with a higher relative deviation.\n",
    "\n",
    "Now, some feature selection methods are going to be tested to understand correlations between input variables and output variable. Some of the code below was based on [Ando Saabas's blog](http://blog.datadive.net/selecting-good-features-part-iv-stability-selection-rfe-and-everything-side-by-side/), just to better showcase the results with proper formatting. Ando Saabas's post is also very informative into feature selection with lots of different ML algorithms.\n",
    "\n",
    "3-fold cross-validation will be used as a stronger way to check nice ML algorithm fitting, dividing training set into training and testing partitions and averaging score results to verify how well each method performs.\n",
    "\n",
    "All methods tested provide a nice feature importance feature, which will help us to choose features.\n",
    "\n",
    "The Logistic Regressor is considered a high bias classifier algorithm, and the Gradient Boosting Classifier is considered to be a high variance classifier algorithm, although it can very robust to overfitting when used properly. Also, Logistic Regressors perform better with scaled inputs."
   ]
  },
  {
   "cell_type": "code",
   "execution_count": 5,
   "metadata": {},
   "outputs": [
    {
     "name": "stdout",
     "output_type": "stream",
     "text": [
      "                    \t         GB\tLR\n",
      "                 STG\t      0.0\t0.02\n",
      "                 SCG\t     0.06\t0.15\n",
      "                 STR\t     0.17\t0.04\n",
      "                 LPR\t     0.68\t0.22\n",
      "                 PEG\t      1.0\t0.55\n",
      "               Score\t   0.908\t0.796\n"
     ]
    }
   ],
   "source": [
    "from sklearn.ensemble import GradientBoostingClassifier\n",
    "from sklearn.linear_model import LogisticRegression\n",
    "from sklearn.model_selection import cross_val_score\n",
    "from sklearn.preprocessing import MinMaxScaler, StandardScaler\n",
    "\n",
    "ranks = {}\n",
    "scores = {}\n",
    "\n",
    "def rank_to_dict(ranks, names):\n",
    "    minmax = MinMaxScaler()\n",
    "    ranks = minmax.fit_transform(np.array([ranks]).T).T[0]\n",
    "    ranks = map(lambda x: round(x, 2), ranks)\n",
    "    return dict(zip(names, ranks ))\n",
    "\n",
    "scaler = StandardScaler()\n",
    "scaler.fit(X)\n",
    "X_scaled = scaler.transform(X)\n",
    "y = np.asarray(y, dtype=\"S1\")\n",
    "\n",
    "lr = LogisticRegression(random_state=42)\n",
    "lr.fit(X_scaled, y)\n",
    "ranks['LR'] = rank_to_dict(np.abs(np.ravel(lr.coef_)), names)\n",
    "scores['LR'] = round(np.mean(cross_val_score(lr, X_scaled, y, scoring='accuracy')), 3) \n",
    "#AUROC may be a better way to analyze precision of a method\n",
    "\n",
    "gb = GradientBoostingClassifier(random_state=42)\n",
    "gb.fit(X_scaled, y)\n",
    "ranks['GB'] = rank_to_dict(gb.feature_importances_, names)\n",
    "scores['GB'] = round(np.mean(cross_val_score(gb, X_scaled, y, scoring='accuracy')), 3)\n",
    "\n",
    "r = {}\n",
    "for name in names:\n",
    "    r[name] = round(np.mean([ranks[method][name]\n",
    "                             for method in ranks.keys()]), 3)\n",
    "\n",
    "methods = sorted(ranks.keys())\n",
    "\n",
    "print('%20s\\t%14s' % ('', '\\t'.join(methods)))\n",
    "for name in names:\n",
    "    print('%20s\\t%14s' % (name, '\\t'.join(map(str,\n",
    "                         [ranks[method][name] for method in methods]))))\n",
    "\n",
    "print('%20s\\t%14s' % ('Score', '\\t'.join(map(str,\n",
    "                         [scores[method] for method in methods]))))"
   ]
  },
  {
   "cell_type": "markdown",
   "metadata": {},
   "source": [
    "We can see that the Gradient Boosting Classifier seems to win, at first.\n",
    "\n",
    "Note: [**auto-sklearn**](https://automl.github.io/auto-sklearn/stable/) is a lib that abstracts algorithm and hyperparameter (algorithm's parameters) selection. It will not be used in this case for it's purpose is educational."
   ]
  },
  {
   "cell_type": "code",
   "execution_count": 6,
   "metadata": {},
   "outputs": [
    {
     "name": "stdout",
     "output_type": "stream",
     "text": [
      "                    \t         GB\tLR\n",
      "               Score\t    0.951\t0.83\n"
     ]
    }
   ],
   "source": [
    "refine_scores = {}\n",
    "refine_methods = ['GB', 'LR']\n",
    "selected_features = ['LPR', 'PEG']\n",
    "\n",
    "X_GB = X[selected_features]\n",
    "\n",
    "gb = GradientBoostingClassifier(random_state=42)\n",
    "refine_scores['GB'] = round(np.mean(cross_val_score(gb, X_GB, y, scoring='accuracy')), 3)\n",
    "\n",
    "X_LR = X[selected_features]\n",
    "scaler = StandardScaler()\n",
    "scaler.fit(X_LR)\n",
    "X_LR_scaled = scaler.transform(X_LR)\n",
    "\n",
    "lr = LogisticRegression(random_state=42)\n",
    "refine_scores['LR'] = round(np.mean(cross_val_score(lr, X_LR_scaled, y, scoring='accuracy')), 3)\n",
    "\n",
    "print('%20s\\t%14s' % ('', '\\t'.join(refine_methods)))\n",
    "print('%20s\\t%14s' % ('Score', '\\t'.join(map(str,\n",
    "                         [refine_scores[method] for method in refine_methods]))))"
   ]
  },
  {
   "cell_type": "markdown",
   "metadata": {},
   "source": [
    "Now we are going to plot our input variables in a graph to see how they are distributed. It will be easier with only two features, which can be displayed in a 2D graph (no worries, if needed this process can be done in a multivariate scenarios). Clear visual explorations usually bring insights much quicker than testing different parameters and checking prediction results, also giving fast comprehension about our dataset.\n",
    "\n",
    "Our goal is to trim some polluting data, which may increase variance error in our model (see polynomial example in spreadsheet). This bad data is usually called an **outlier**."
   ]
  },
  {
   "cell_type": "code",
   "execution_count": 7,
   "metadata": {
    "scrolled": false
   },
   "outputs": [
    {
     "data": {
      "image/png": "[encoded data removed]",
      "text/plain": [
       "<matplotlib.figure.Figure at 0x7f1647b84400>"
      ]
     },
     "metadata": {},
     "output_type": "display_data"
    }
   ],
   "source": [
    "%matplotlib inline\n",
    "import matplotlib.pyplot as plt\n",
    "\n",
    "x_axis = X_y[selected_features[0]]\n",
    "y_axis = X_y[selected_features[1]]\n",
    "\n",
    "plt.figure(figsize=(13, 13))\n",
    "plt.plot(x_axis, y_axis, 'ro')\n",
    "plt.show()"
   ]
  },
  {
   "cell_type": "markdown",
   "metadata": {},
   "source": [
    "We have a rather sparse plotting, it may help to see how variables are distributed within each output class. This will help us to find outliers to optimize our training dataset, reducing variance error. We are going to use Isolation Forests to locate outliers."
   ]
  },
  {
   "cell_type": "code",
   "execution_count": 8,
   "metadata": {},
   "outputs": [
    {
     "data": {
      "image/png": "[encoded data removed]",
      "text/plain": [
       "<matplotlib.figure.Figure at 0x7f164061bba8>"
      ]
     },
     "metadata": {},
     "output_type": "display_data"
    }
   ],
   "source": [
    "from sklearn.ensemble import IsolationForest\n",
    "from scipy import stats\n",
    "\n",
    "xx, yy = np.meshgrid(np.linspace(0, 1, 100), np.linspace(0, 1, 100))\n",
    "outliers_fraction = 0.2\n",
    "\n",
    "X_y_clean = pd.DataFrame(data=None, columns=[selected_features + [y_name]])\n",
    "\n",
    "plt.figure(figsize=(13, 13))\n",
    "for i in range(4):\n",
    "    subplot = plt.subplot(2, 2, i + 1)\n",
    "    \n",
    "    X_y_i = X_y.loc[X_y[y_name] == i][selected_features + [y_name]]\n",
    "    X_i = X_y_i[selected_features].as_matrix()\n",
    "    \n",
    "    n_outliers = int(outliers_fraction * len(X_i))\n",
    "    isf = IsolationForest(contamination=outliers_fraction, random_state=42)\n",
    "    isf.fit(X_i)\n",
    "\n",
    "    scores_pred = isf.decision_function(X_i)\n",
    "    threshold = stats.scoreatpercentile(scores_pred, 100 * outliers_fraction)\n",
    "    y_pred = isf.predict(X_i)\n",
    "    Z = isf.decision_function(np.c_[xx.ravel(), yy.ravel()])\n",
    "    Z = Z.reshape(xx.shape)\n",
    "    \n",
    "    X_inside = []\n",
    "    X_outside = []\n",
    "    \n",
    "    X_y_i = X_y_i.reset_index(drop=True)\n",
    "    for dot in range(int(len(X_i))):\n",
    "        if scores_pred[dot] >= threshold:\n",
    "            X_inside = X_inside + [X_i[dot]]\n",
    "            X_y_clean = X_y_clean.append(X_y_i.loc[dot])\n",
    "        else:\n",
    "            X_outside = X_outside + [X_i[dot]]\n",
    "\n",
    "    X_inside = np.array(X_inside)\n",
    "    X_outside = np.array(X_outside)\n",
    "\n",
    "    subplot.contourf(xx, yy, Z, levels=np.sort(np.linspace(Z.min(), threshold, 7)), cmap=plt.cm.Blues_r)\n",
    "    red_line = subplot.contour(xx, yy, Z, levels=np.sort([threshold]), linewidths=2, colors='red')\n",
    "    orange_area = subplot.contourf(xx, yy, Z, levels=np.sort([threshold, Z.max()]),colors='orange')\n",
    "    white_inside = subplot.scatter(X_inside[:, 0], X_inside[:, 1], 50, c='white', edgecolors='face')\n",
    "    black_outside = subplot.scatter(X_outside[:, 0], X_outside[:, 1], 50, c='black')\n",
    "    \n",
    "    subplot.set_title(\"%s %d\" % (y_name, i))\n",
    "    subplot.set_xlim((0, 1))\n",
    "    subplot.set_ylim((0, 1))\n",
    "    subplot.set_xlabel(selected_features[0])\n",
    "    subplot.set_ylabel(selected_features[1])\n",
    "\n",
    "X_y_clean = X_y_clean.reset_index(drop=True)\n",
    "plt.show()"
   ]
  },
  {
   "cell_type": "markdown",
   "metadata": {},
   "source": [
    "We can notice some things while investigating our plots. We can see how PEG clearly influences student knowledge and although LPR alone doesn't mean a lot (we can see in some cases that data is very horizontally distributed), our models noticed its importance. Some questions here can be interesting:\n",
    "- There's some data close to the borders, should we consider them and be less restrict?\n",
    "- In UNS 2 we have an isle to the right full of outlier dots. Can this be a real cluster? Should we decrease outline fraction for this class?\n",
    "- UNS 0 has just a few points. Should we draw aggressive conclusions here? Are these points distant enough from UNS 1?\n",
    "\n",
    "For now we won't use cleaned data, just to prove the concept at the end of this case.\n",
    "\n",
    "Now we are going to do some hyperparameter tuning with GridSearchCV, a nice sklearn utility for model selection.\n",
    "\n",
    "GradientBoostingClassifier will be explored. It's possible to test feature quantity and all parameters using sklearn's Pipeline, for example, but proccessing would take a long time. For this reason, only a few parameters are going to be tested in this next step, and only a few at a time, just to prove the concept."
   ]
  },
  {
   "cell_type": "code",
   "execution_count": 9,
   "metadata": {},
   "outputs": [
    {
     "name": "stdout",
     "output_type": "stream",
     "text": [
      "Best parameters:\n",
      " {'subsample': 0.40000000000000002, 'max_features': 'sqrt', 'max_depth': 5}\n",
      "Best score:\n",
      " 0.961165048544\n"
     ]
    }
   ],
   "source": [
    "from sklearn.model_selection import GridSearchCV\n",
    "\n",
    "max_features_list = ['sqrt', 'auto', 'log2']\n",
    "subsample_list = 0.1 * np.arange(3,6)\n",
    "max_depth_list = 1 * np.arange(4,7)\n",
    "\n",
    "tuned_parameters = [{'max_features': max_features_list, \n",
    "                     'subsample': subsample_list,\n",
    "                     'max_depth': max_depth_list}]\n",
    "\n",
    "gb = GradientBoostingClassifier(random_state=42)\n",
    "\n",
    "gridSearch = GridSearchCV(gb, tuned_parameters, cv=3, scoring='accuracy')\n",
    "gridSearch.fit(X_GB, y)\n",
    "\n",
    "print('Best parameters:\\n', gridSearch.best_params_)\n",
    "print('Best score:\\n', gridSearch.best_score_)"
   ]
  },
  {
   "cell_type": "code",
   "execution_count": 10,
   "metadata": {},
   "outputs": [
    {
     "name": "stdout",
     "output_type": "stream",
     "text": [
      "Best parameters:\n",
      " {'learning_rate': 0.080000000000000002, 'n_estimators': 240}\n",
      "Best score:\n",
      " 0.966019417476\n"
     ]
    }
   ],
   "source": [
    "from sklearn.model_selection import GridSearchCV\n",
    "\n",
    "learning_rate_list = 0.01 * np.arange(7,10)\n",
    "n_estimators_list = 20 * np.arange(11,14)\n",
    "\n",
    "tuned_parameters = [{'learning_rate': learning_rate_list, \n",
    "                     'n_estimators':n_estimators_list}]\n",
    "\n",
    "gb = GradientBoostingClassifier(random_state=42, max_features=\"sqrt\", subsample=0.4, max_depth=5)\n",
    "\n",
    "gridSearch = GridSearchCV(gb, tuned_parameters, cv=3, scoring='accuracy')#, verbose=2)\n",
    "gridSearch.fit(X_GB, y)\n",
    "\n",
    "print('Best parameters:\\n', gridSearch.best_params_)\n",
    "print('Best score:\\n', gridSearch.best_score_)"
   ]
  },
  {
   "cell_type": "markdown",
   "metadata": {},
   "source": [
    "Remembering, our model went from 0.796 (using LR), to 0.908, then 0.951 and now 0.966 using cross validation. We've done model selection, feature selection and hyperparameter selection. Now let's test our setup against the test set."
   ]
  },
  {
   "cell_type": "code",
   "execution_count": 11,
   "metadata": {
    "scrolled": false
   },
   "outputs": [
    {
     "name": "stdout",
     "output_type": "stream",
     "text": [
      "[b'2' b'3' b'0' b'1' b'3' b'1' b'0' b'2' b'1' b'1' b'1' b'1' b'1' b'2' b'2'\n",
      " b'0' b'0' b'1' b'1' b'2' b'1' b'1' b'1' b'0' b'2' b'3' b'1' b'3' b'2' b'1'\n",
      " b'2' b'2' b'0' b'3' b'2' b'2' b'2' b'2' b'3' b'1' b'1' b'2' b'0' b'2' b'0'\n",
      " b'3' b'1' b'3' b'3' b'3' b'0' b'2']\n",
      "[b'2' b'3' b'1' b'1' b'3' b'1' b'0' b'2' b'1' b'1' b'1' b'1' b'1' b'2' b'2'\n",
      " b'0' b'1' b'1' b'1' b'2' b'1' b'1' b'1' b'1' b'2' b'3' b'1' b'3' b'2' b'1'\n",
      " b'2' b'2' b'0' b'3' b'2' b'1' b'2' b'2' b'3' b'1' b'1' b'2' b'0' b'2' b'0'\n",
      " b'3' b'1' b'3' b'3' b'3' b'0' b'2']\n",
      "\n",
      " Prediction score: 0.923\n"
     ]
    }
   ],
   "source": [
    "from sklearn.metrics import accuracy_score\n",
    "\n",
    "gb = GradientBoostingClassifier(random_state=42, max_features=\"sqrt\", subsample=0.4, max_depth=5,\n",
    "                               learning_rate=0.08, n_estimators=240)\n",
    "\n",
    "gb.fit(X_GB, y)\n",
    "\n",
    "X_GB_test = X_test[selected_features]\n",
    "\n",
    "y_predicted = gb.predict(X_GB_test)\n",
    "y_test = np.asarray(y_test, dtype=\"S1\")\n",
    "\n",
    "print(y_test)\n",
    "print(y_predicted)\n",
    "\n",
    "prediction_score = round(accuracy_score(y_test, y_predicted), 3)\n",
    "print('\\n','Prediction score:',prediction_score)"
   ]
  },
  {
   "cell_type": "markdown",
   "metadata": {},
   "source": [
    "We got prediction score 0.923! Of course, it's lower than our score during training, but that's only natural and will happen in most cases. Now we are going to test our clean train dataset with the same model."
   ]
  },
  {
   "cell_type": "code",
   "execution_count": 14,
   "metadata": {
    "scrolled": false
   },
   "outputs": [
    {
     "name": "stdout",
     "output_type": "stream",
     "text": [
      "[b'2' b'3' b'0' b'1' b'3' b'1' b'0' b'2' b'1' b'1' b'1' b'1' b'1' b'2' b'2'\n",
      " b'0' b'0' b'1' b'1' b'2' b'1' b'1' b'1' b'0' b'2' b'3' b'1' b'3' b'2' b'1'\n",
      " b'2' b'2' b'0' b'3' b'2' b'2' b'2' b'2' b'3' b'1' b'1' b'2' b'0' b'2' b'0'\n",
      " b'3' b'1' b'3' b'3' b'3' b'0' b'2']\n",
      "[b'2' b'3' b'1' b'1' b'3' b'1' b'0' b'2' b'1' b'1' b'1' b'1' b'1' b'2' b'2'\n",
      " b'0' b'0' b'1' b'1' b'2' b'1' b'1' b'1' b'0' b'2' b'3' b'1' b'3' b'2' b'1'\n",
      " b'2' b'2' b'0' b'3' b'2' b'3' b'2' b'2' b'3' b'1' b'1' b'2' b'0' b'2' b'0'\n",
      " b'3' b'1' b'3' b'3' b'3' b'0' b'2']\n",
      "\n",
      " Prediction score: 0.962\n"
     ]
    }
   ],
   "source": [
    "gb.fit(X_y_clean[selected_features], X_y_clean[y_name])\n",
    "\n",
    "y_predicted = np.asarray(gb.predict(X_GB_test), dtype=\"S1\")\n",
    "y_test = np.asarray(y_test, dtype=\"S1\")\n",
    "\n",
    "print(y_test)\n",
    "print(y_predicted)\n",
    "\n",
    "prediction_score = round(accuracy_score(y_test, y_predicted), 3)\n",
    "print('\\n','Prediction score:',prediction_score)"
   ]
  },
  {
   "cell_type": "markdown",
   "metadata": {
    "collapsed": true
   },
   "source": [
    "We got an amazing result! With proper hyperparemeter selection (using this data), we could maybe obtain even higher scores, but this proves that cleaning data is very important. [Here's a good point to start studying ML](https://github.com/hangtwenty/dive-into-machine-learning), and [here's a repo full of datasets waiting to be used](https://github.com/hangtwenty/dive-into-machine-learning). This universe is very vast and full of letters, math and logical thinking. Take your time when learning this stuff, let it sit.\n",
    "\n",
    "That is the end of the case, I hope that it helped you, showing some thoughts on very important ML modelling steps!"
   ]
  },
  {
   "cell_type": "code",
   "execution_count": null,
   "metadata": {
    "collapsed": true
   },
   "outputs": [],
   "source": []
  }
 ],
 "metadata": {
  "anaconda-cloud": {},
  "kernelspec": {
   "display_name": "Python 3",
   "language": "python",
   "name": "python3"
  },
  "language_info": {
   "codemirror_mode": {
    "name": "ipython",
    "version": 3
   },
   "file_extension": ".py",
   "mimetype": "text/x-python",
   "name": "python",
   "nbconvert_exporter": "python",
   "pygments_lexer": "ipython3",
   "version": "3.6.4"
  }
 },
 "nbformat": 4,
 "nbformat_minor": 1
}
